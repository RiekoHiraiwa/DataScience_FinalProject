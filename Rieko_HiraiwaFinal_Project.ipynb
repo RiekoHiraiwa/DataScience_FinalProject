{
 "cells": [
  {
   "cell_type": "code",
   "execution_count": null,
   "id": "c00bed8e-0721-449b-bd7e-9f19286da2f3",
   "metadata": {},
   "outputs": [],
   "source": []
  },
  {
   "cell_type": "markdown",
   "id": "e7de833a-ce24-470a-a9f2-13b1f49078a3",
   "metadata": {},
   "source": [
    "#Data Science Final Project"
   ]
  },
  {
   "cell_type": "markdown",
   "id": "fc964d32-c4a3-442f-bf04-49a6d7fc6950",
   "metadata": {},
   "source": [
    "## Introduction\n",
    "This notebook demonstrates various data science tools and techniques using JupyterLite Notebook. The exercises cover languages, libraries, tools, and simple arithmetic operations."
   ]
  },
  {
   "cell_type": "markdown",
   "id": "5bb523ec-840b-4e62-a4ba-504d36bdc646",
   "metadata": {},
   "source": [
    "## Data Science Languages\n",
    "- Python\n",
    "- R\n",
    "- SQL\n",
    "- Julia\n",
    "- Java"
   ]
  },
  {
   "cell_type": "markdown",
   "id": "2f7b6ae0-69ef-4c88-9eb3-ccef64e9d54c",
   "metadata": {},
   "source": [
    "## Data Science Libraries\n",
    "- Pandas\n",
    "- NumPy\n",
    "- Matplotlib\n",
    "- Scikit-learn\n",
    "- TensorFlow"
   ]
  },
  {
   "cell_type": "markdown",
   "id": "87ae5869-bb79-4f94-b2bd-9c7f6e4b4f43",
   "metadata": {},
   "source": [
    "## Data Science Tools\n",
    "| Tool          | Description                        |\n",
    "|---------------|------------------------------------|\n",
    "| Jupyter       | Interactive computing environment  |\n",
    "| RStudio       | Integrated development environment for R |\n",
    "| Apache Spark  | Fast and general engine for large-scale data processing |"
   ]
  },
  {
   "cell_type": "markdown",
   "id": "d042802c-ccbd-4a71-a78c-054de4bccf79",
   "metadata": {
    "tags": []
   },
   "source": [
    "## Arithmetic Example\n",
    "- Addition: \\(1 + 1 = 2\\)\n",
    "- Multiplication: \\(2 \\times 3 = 6\\)"
   ]
  },
  {
   "cell_type": "code",
   "execution_count": null,
   "id": "5253d898-34ac-4aa3-bfff-c3b4dbbc2319",
   "metadata": {},
   "outputs": [],
   "source": [
    "# Multiplication and Addition\n",
    "result = (2 * 3) + 5\n",
    "result"
   ]
  },
  {
   "cell_type": "code",
   "execution_count": null,
   "id": "49723d5a-62ce-4a1c-bccd-c56a3402c810",
   "metadata": {
    "tags": []
   },
   "outputs": [],
   "source": [
    "# Convert minutes to hours\n",
    "minutes = 150\n",
    "hours = minutes / 60\n",
    "hours"
   ]
  },
  {
   "cell_type": "markdown",
   "id": "d2a2252e-b503-43a9-b700-acc039eba6e4",
   "metadata": {},
   "source": [
    "## Objectives\n",
    "- Understand basic data science languages\n",
    "- Learn popular data science libraries\n",
    "- Perform simple arithmetic operations\n",
    "- Work with data science tools and platforms"
   ]
  },
  {
   "cell_type": "markdown",
   "id": "7cd90bcc-5c77-4966-abd0-252e42eda485",
   "metadata": {},
   "source": [
    "## Author\n",
    "- Rieko Hiraiwa"
   ]
  },
  {
   "cell_type": "code",
   "execution_count": null,
   "id": "7fc227da-6633-40de-b6a8-c345771186d3",
   "metadata": {},
   "outputs": [],
   "source": []
  }
 ],
 "metadata": {
  "kernelspec": {
   "display_name": "Python",
   "language": "python",
   "name": "conda-env-python-py"
  },
  "language_info": {
   "codemirror_mode": {
    "name": "ipython",
    "version": 3
   },
   "file_extension": ".py",
   "mimetype": "text/x-python",
   "name": "python",
   "nbconvert_exporter": "python",
   "pygments_lexer": "ipython3",
   "version": "3.7.12"
  }
 },
 "nbformat": 4,
 "nbformat_minor": 5
}
